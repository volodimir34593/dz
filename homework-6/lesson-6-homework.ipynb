{
 "cells": [
  {
   "cell_type": "code",
   "execution_count": null,
   "metadata": {},
   "outputs": [],
   "source": [
    "text = input('Enter text: ')\n",
    "text = text.rstrip()\n",
    "\n",
    "is_last = False\n",
    "space_position_prev = 0\n",
    "word_max = ''\n",
    "\n",
    "while not is_last:\n",
    "    space_position_current = text.find(' ', space_position_prev)\n",
    "    if space_position_current == -1:\n",
    "        print('The largest world is: ', word_max)\n",
    "        break\n",
    "    else:\n",
    "        word = text[space_position_prev : space_position_current]\n",
    "        print(word)\n",
    "        space_position_prev = space_position_current + 1 \n",
    "        if len(word) > len(word_max):\n",
    "            word_max = word"
   ]
  }
 ],
 "metadata": {
  "kernelspec": {
   "display_name": "Python 3.10.4 64-bit",
   "language": "python",
   "name": "python3"
  },
  "language_info": {
   "codemirror_mode": {
    "name": "ipython",
    "version": 3
   },
   "file_extension": ".py",
   "mimetype": "text/x-python",
   "name": "python",
   "nbconvert_exporter": "python",
   "pygments_lexer": "ipython3",
   "version": "3.10.4"
  },
  "orig_nbformat": 4,
  "vscode": {
   "interpreter": {
    "hash": "52634da84371cba311ea128a5ea7cdc41ff074b781779e754b270ff9f8153cee"
   }
  }
 },
 "nbformat": 4,
 "nbformat_minor": 2
}
