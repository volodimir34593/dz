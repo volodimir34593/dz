{
 "cells": [
  {
   "cell_type": "code",
   "execution_count": 1,
   "metadata": {},
   "outputs": [
    {
     "name": "stdout",
     "output_type": "stream",
     "text": [
      "No one correct number\n",
      "No one correct number\n",
      "No one correct number\n",
      "No one correct number\n",
      "No one correct number\n"
     ]
    }
   ],
   "source": [
    "\n",
    "\n",
    "phones = [\n",
    "    '639123456', \n",
    "    '509123456',\n",
    "    '669123456', \n",
    "    '999123456',\n",
    "    '4491234567'\n",
    "]\n",
    "correct_len_of_number = 13\n",
    "correct_country_code = '+38'\n",
    "correct_code_of_operator = ['063', '050', '066', '099', '44']\n",
    "for phone in phones:\n",
    "    if len(phone) == correct_len_of_number and phone[:3] == correct_country_code and phone[3:6] in correct_code_of_operator:\n",
    "        print(phone)\n",
    "    else:\n",
    "        print('No one correct number')\n",
    "\n"
   ]
  }
 ],
 "metadata": {
  "kernelspec": {
   "display_name": "Python 3.10.4 64-bit",
   "language": "python",
   "name": "python3"
  },
  "language_info": {
   "codemirror_mode": {
    "name": "ipython",
    "version": 3
   },
   "file_extension": ".py",
   "mimetype": "text/x-python",
   "name": "python",
   "nbconvert_exporter": "python",
   "pygments_lexer": "ipython3",
   "version": "3.10.4"
  },
  "orig_nbformat": 4,
  "vscode": {
   "interpreter": {
    "hash": "52634da84371cba311ea128a5ea7cdc41ff074b781779e754b270ff9f8153cee"
   }
  }
 },
 "nbformat": 4,
 "nbformat_minor": 2
}
