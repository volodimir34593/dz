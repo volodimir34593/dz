{
 "cells": [
  {
   "cell_type": "code",
   "execution_count": 4,
   "metadata": {},
   "outputs": [
    {
     "name": "stdout",
     "output_type": "stream",
     "text": [
      "Площа квадрату = 25\n"
     ]
    }
   ],
   "source": [
    "side = 5\n",
    "square = side ** 2\n",
    "message = 'Площа квадрату ='\n",
    "print(message, square)"
   ]
  },
  {
   "cell_type": "code",
   "execution_count": 3,
   "metadata": {},
   "outputs": [
    {
     "name": "stdout",
     "output_type": "stream",
     "text": [
      "Периметр:  12\n"
     ]
    }
   ],
   "source": [
    "side_a = 3  #side A\n",
    "side_b = 4  #side B\n",
    "side_c = 5  #side C\n",
    "\n",
    "# calculate perimeter\n",
    "perimeter = side_a + side_b + side_c\n",
    "\n",
    "print(\"Периметр: \", perimeter)"
   ]
  }
 ],
 "metadata": {
  "kernelspec": {
   "display_name": "Python 3.10.4 64-bit",
   "language": "python",
   "name": "python3"
  },
  "language_info": {
   "codemirror_mode": {
    "name": "ipython",
    "version": 3
   },
   "file_extension": ".py",
   "mimetype": "text/x-python",
   "name": "python",
   "nbconvert_exporter": "python",
   "pygments_lexer": "ipython3",
   "version": "3.10.4"
  },
  "orig_nbformat": 4,
  "vscode": {
   "interpreter": {
    "hash": "52634da84371cba311ea128a5ea7cdc41ff074b781779e754b270ff9f8153cee"
   }
  }
 },
 "nbformat": 4,
 "nbformat_minor": 2
}
