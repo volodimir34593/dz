{
 "cells": [
  {
   "cell_type": "code",
   "execution_count": null,
   "metadata": {},
   "outputs": [],
   "source": [
    "post_ukr = {'Київ', 'Фастів', 'Ірпінь', 'Боярка'} \n",
    "post_new = {'Київ', 'Фастів', 'Кагарлик', 'Узин', 'Ірпінь', 'Гатне', 'Боярка', 'Гостомель'}\n",
    "\n",
    "user_city = input() \n",
    "is_post_ukr = user_city in post_ukr; \n",
    "is_post_new = user_city in post_new;\n",
    "\n",
    "if is_post_ukr and is_post_new :\n",
    "    print('Обреіть спосіб доставки: 1 - Нова пошта, 2 - Укрпошта.')\n",
    "elif user_city in post_ukr: \n",
    "    print('Можлива доставка Укрпоштою. Оберіть номер відділення')\n",
    "elif user_city in post_new:\n",
    "    print('Можлива доставка Новою поштою. Оберіть номер відділення')\n",
    "else:\n",
    "    print('На жаль, доставки в ваше місто немає. Скористайтесь самовивозом.')"
   ]
  },
  {
   "cell_type": "code",
   "execution_count": 3,
   "metadata": {},
   "outputs": [
    {
     "name": "stdout",
     "output_type": "stream",
     "text": [
      "1\n",
      " Останнє число,піднесене степінь:\n"
     ]
    }
   ],
   "source": [
    "p = int(input(\"Показник степеня: \"))\n",
    "n = int(input(\"Межа: \"))\n",
    "i = 1\n",
    "\n",
    "while i ** p<= n:\n",
    "    print(i ** p, end='')\n",
    "    i+=1\n",
    "\n",
    "print(\"\\n Останнє число,\"\n",
    "\"піднесене степінь:\",)"
   ]
  },
  {
   "cell_type": "code",
   "execution_count": 6,
   "metadata": {},
   "outputs": [
    {
     "name": "stdout",
     "output_type": "stream",
     "text": [
      "Ресторан \"газда\" приймає кількість  - 3\n",
      "добрий день Ivan\n",
      "ви хочете забронювати столик?\n",
      "так!\n",
      "проходьте до столика 7\n",
      "дякуємо гарно\n",
      "Ресторан \"газда\" приймає кількість  - 4\n",
      "добрий день Василь\n",
      "ви хочете забронювати столик?\n",
      "так!\n",
      "проходьте до столика 3\n",
      "дякуємо гарно\n"
     ]
    }
   ],
   "source": [
    "clients = [\n",
    "    ['газда', 'Малеш', 3],\n",
    "]\n",
    "\n",
    "restaurans = dict();\n",
    "\n",
    "for voucher in clients :\n",
    "    voucher_restauran = voucher[0]\n",
    "    voucher_persons = voucher[2]\n",
    "    \n",
    "    if restaurans.get(voucher_restauran, 0) == 0:\n",
    "       restaurans[voucher_restauran] = voucher_persons\n",
    "       \n",
    "    else:\n",
    "        restaurans_persons = restaurans[voucher_restauran]\n",
    "        restaurans[voucher_restauran] = restaurans_persons + voucher_persons\n",
    "\n",
    "for restaurans, persons in restaurans.items():\n",
    "    print('Ресторан \"{}\" приймає кількість  - {}'.format(restaurans, persons))\n",
    "   \n",
    "def greeting(name):\n",
    "    print('добрий день', name)   \n",
    "greeting('Ivan')\n",
    "\n",
    "def say_hello():\n",
    "    print('ви хочете забронювати столик?')   # блок, принадлежащий функции\n",
    "    # Конец функции say_hello()\n",
    "\n",
    "# вызов функции\n",
    "say_hello()\n",
    "\n",
    "print('так!')\n",
    "# ещё один вызов функции\n",
    "print('проходьте до столика 7')\n",
    "# ещё один вызов функции\n",
    "print('дякуємо гарно')\n",
    "\n",
    "clients = [\n",
    "    ['газда', 'Ломага', 4],\n",
    "]\n",
    "\n",
    "restaurans = dict();\n",
    "\n",
    "for voucher in clients :\n",
    "    voucher_restauran = voucher[0]\n",
    "    voucher_persons = voucher[2]\n",
    "    \n",
    "    if restaurans.get(voucher_restauran, 0) == 0:\n",
    "       restaurans[voucher_restauran] = voucher_persons\n",
    "       \n",
    "    else:\n",
    "        restaurans_persons = restaurans[voucher_restauran]\n",
    "        restaurans[voucher_restauran] = restaurans_persons + voucher_persons\n",
    "\n",
    "for restaurans, persons in restaurans.items():\n",
    "    print('Ресторан \"{}\" приймає кількість  - {}'.format(restaurans, persons))\n",
    "   \n",
    "def greeting(name):\n",
    "    print('добрий день', name)   \n",
    "greeting('Василь')\n",
    "\n",
    "def say_hello():\n",
    "    print('ви хочете забронювати столик?')   # блок, принадлежащий функции\n",
    "    # Конец функции say_hello()\n",
    "\n",
    "# вызов функции\n",
    "say_hello()\n",
    "\n",
    "print('так!')\n",
    "# ещё один вызов функции\n",
    "print('проходьте до столика 3')\n",
    "# ещё один вызов функции\n",
    "print('дякуємо гарно')\n"
   ]
  }
 ],
 "metadata": {
  "kernelspec": {
   "display_name": "Python 3.10.4 64-bit",
   "language": "python",
   "name": "python3"
  },
  "language_info": {
   "codemirror_mode": {
    "name": "ipython",
    "version": 3
   },
   "file_extension": ".py",
   "mimetype": "text/x-python",
   "name": "python",
   "nbconvert_exporter": "python",
   "pygments_lexer": "ipython3",
   "version": "3.10.4"
  },
  "orig_nbformat": 4,
  "vscode": {
   "interpreter": {
    "hash": "52634da84371cba311ea128a5ea7cdc41ff074b781779e754b270ff9f8153cee"
   }
  }
 },
 "nbformat": 4,
 "nbformat_minor": 2
}
