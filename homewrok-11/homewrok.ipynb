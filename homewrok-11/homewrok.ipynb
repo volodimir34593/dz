{
 "cells": [
  {
   "cell_type": "code",
   "execution_count": 4,
   "metadata": {},
   "outputs": [
    {
     "name": "stdout",
     "output_type": "stream",
     "text": [
      "Name:  Ronaldo 99\n",
      "Name:  Messi 96\n"
     ]
    }
   ],
   "source": [
    "class Human:\n",
    "    first_team = ''\n",
    "    last_team = ''\n",
    "    gender = None\n",
    "    age = 0\n",
    "\n",
    "\n",
    "class Student(Human):\n",
    "    city = 'Madrid'\n",
    "    rating = 0\n",
    "\n",
    "    def set_rating(self, new_rating):\n",
    "        self.rating = new_rating\n",
    "\n",
    "\n",
    "class Group:\n",
    "    title = ''  #UA_Python_1y_10\n",
    "    cource = '' #Python\n",
    "    teams = []\n",
    "    \n",
    "\n",
    "    def print_team(self):\n",
    "        for curent_teams in self.teams:\n",
    "            print('Name: ', curent_teams.last_name, curent_teams.rating)\n",
    "\n",
    "\n",
    "    def add_team(self, new_team):\n",
    "        self.teams.append(new_team)\n",
    "\n",
    "\n",
    "best_team = Group()\n",
    "best_team.title = 'UA_Python_1y_10'\n",
    "best_team.cource = 'Python'\n",
    "\n",
    "Ronaldo = Student()\n",
    "Ronaldo.city = 'Kyiv'\n",
    "Ronaldo.last_name = 'Ronaldo'\n",
    "Ronaldo.set_rating(99)\n",
    "\n",
    "Kovalyuk_I = Student()\n",
    "Kovalyuk_I.city = 'Kyiv'\n",
    "Kovalyuk_I.last_name = 'Messi'\n",
    "Kovalyuk_I.set_rating(96)\n",
    "\n",
    "best_team.add_team(Ronaldo)\n",
    "best_team.add_team(Kovalyuk_I)\n",
    "\n",
    "best_team.print_team()"
   ]
  },
  {
   "cell_type": "code",
   "execution_count": null,
   "metadata": {},
   "outputs": [],
   "source": []
  }
 ],
 "metadata": {
  "kernelspec": {
   "display_name": "Python 3.10.4 64-bit",
   "language": "python",
   "name": "python3"
  },
  "language_info": {
   "codemirror_mode": {
    "name": "ipython",
    "version": 3
   },
   "file_extension": ".py",
   "mimetype": "text/x-python",
   "name": "python",
   "nbconvert_exporter": "python",
   "pygments_lexer": "ipython3",
   "version": "3.10.4"
  },
  "orig_nbformat": 4,
  "vscode": {
   "interpreter": {
    "hash": "52634da84371cba311ea128a5ea7cdc41ff074b781779e754b270ff9f8153cee"
   }
  }
 },
 "nbformat": 4,
 "nbformat_minor": 2
}
