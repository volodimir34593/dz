{
 "cells": [
  {
   "cell_type": "code",
   "execution_count": 1,
   "metadata": {},
   "outputs": [],
   "source": [
    "def generate_line_date(x_left_interval, step, points_count, coef):\n",
    "   k = coef[0]\n",
    "   b = coef[1]\n",
    "\n",
    "   x = list()\n",
    "   y = list()\n",
    "\n",
    "   for point_number in range(0, points_count):\n",
    "       point_x = x_left_interval + step * point_number\n",
    "       point_y = k * point_x + b\n",
    "       \n",
    "       x.append(point_x)\n",
    "       y.append(point_y)\n",
    "       \n",
    "       return {'x_data': x, 'y_data': y} \n",
    "\n",
    "\n",
    "    \n",
    "def generate_parabola_date(x_left_inteval, step, points_count, coef):\n",
    "    a = coef[0]\n",
    "    b = coef[1]\n",
    "\n",
    "    x = list()\n",
    "    y = list()\n",
    "    for point_number in range(0, points_count):\n",
    "       point_x = x_left_inteval + step * point_number\n",
    "       point_y = a * point_x ** 2 + b\n",
    "       \n",
    "       x.append(point_x)\n",
    "       y.append(point_y)\n",
    "    \n",
    "    return {'x_data': x, 'y_data': y} \n",
    "\n",
    "if __name__ == '_main_' :\n",
    "    generate_line_date(3, 2, 8, [2, 7])\n",
    "    generate_parabola_date(5, 1, 10, [2, 3])\n",
    "    \n",
    "\n",
    "    "
   ]
  }
 ],
 "metadata": {
  "kernelspec": {
   "display_name": "Python 3.10.4 64-bit",
   "language": "python",
   "name": "python3"
  },
  "language_info": {
   "codemirror_mode": {
    "name": "ipython",
    "version": 3
   },
   "file_extension": ".py",
   "mimetype": "text/x-python",
   "name": "python",
   "nbconvert_exporter": "python",
   "pygments_lexer": "ipython3",
   "version": "3.10.4"
  },
  "orig_nbformat": 4,
  "vscode": {
   "interpreter": {
    "hash": "52634da84371cba311ea128a5ea7cdc41ff074b781779e754b270ff9f8153cee"
   }
  }
 },
 "nbformat": 4,
 "nbformat_minor": 2
}
