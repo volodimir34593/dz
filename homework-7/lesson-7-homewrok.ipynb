{
 "cells": [
  {
   "cell_type": "code",
   "execution_count": null,
   "metadata": {},
   "outputs": [],
   "source": [
    "students = {\n",
    "    'Andrew': 3,\n",
    "    'Igor': 4,\n",
    "    'Sergey': 2,\n",
    "    'Tanya': 5\n",
    "}\n",
    "\n",
    "bestStudents={}\n",
    "\n",
    "for name in students:\n",
    "    if(students[name] >3 ):\n",
    "        bestStudents.update({name: students[name]})\n",
    "\n",
    "print(bestStudents)"
   ]
  },
  {
   "cell_type": "code",
   "execution_count": null,
   "metadata": {},
   "outputs": [],
   "source": [
    "weather = {\n",
    "    'Kyiv': 26,\n",
    "    'Kharkiv': 18,\n",
    "    'Lviv': 20\n",
    "}\n",
    "question = input('type Kyiv, Kharkiv or Lviv')\n",
    "\n",
    "suma = 0\n",
    "tempList = []\n",
    "\n",
    "for city in weather:\n",
    "    suma += weather[city]\n",
    "\n",
    "    tempList.append(weather[city])    \n",
    "\n",
    "tempList.sort()\n",
    "\n",
    "print('The coldest Temp is', *tempList[:1])\n",
    "\n",
    "\n",
    "print('Average temp is', suma//len(weather))"
   ]
  }
 ],
 "metadata": {
  "kernelspec": {
   "display_name": "Python 3.10.4 64-bit",
   "language": "python",
   "name": "python3"
  },
  "language_info": {
   "codemirror_mode": {
    "name": "ipython",
    "version": 3
   },
   "file_extension": ".py",
   "mimetype": "text/x-python",
   "name": "python",
   "nbconvert_exporter": "python",
   "pygments_lexer": "ipython3",
   "version": "3.10.4"
  },
  "orig_nbformat": 4,
  "vscode": {
   "interpreter": {
    "hash": "52634da84371cba311ea128a5ea7cdc41ff074b781779e754b270ff9f8153cee"
   }
  }
 },
 "nbformat": 4,
 "nbformat_minor": 2
}
