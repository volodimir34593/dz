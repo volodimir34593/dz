{
 "cells": [
  {
   "cell_type": "code",
   "execution_count": null,
   "metadata": {},
   "outputs": [],
   "source": [
    "greeting = 'привіт світ@'\n",
    "count = 0\n",
    "\n",
    "for item in greeting:\n",
    "    print(item, end = ' ')\n",
    "    count +=1\n",
    "else:\n",
    "    print()\n",
    "    print('lenth', greeting, '=', count)\n",
    "    string = input ()\n",
    "sigh = input ()\n",
    "result = f\"Кількість символа '{sigh}' в строці:\"\n",
    "print (result, string.find(sigh))"
   ]
  },
  {
   "cell_type": "code",
   "execution_count": null,
   "metadata": {},
   "outputs": [],
   "source": [
    "a = int (input())\n",
    "b = int (input ())\n",
    "\n",
    "suma = 0\n",
    "a += 1\n",
    "for y in range(a, b): \n",
    "    suma += y*y\n",
    "\n",
    "print (suma)"
   ]
  },
  {
   "cell_type": "code",
   "execution_count": null,
   "metadata": {},
   "outputs": [],
   "source": [
    "cities = ['Kyiv', 'Lviv', 'Paris', 'London',]\n",
    "city = input('Куди хочете поїхати?')\n",
    "for city_visited in cities:\n",
    "    if city_visited == city:\n",
    "        print('Ми вже там були?')\n",
    "        break\n",
    "    else:\n",
    "        print('Ми там не були')\n"
   ]
  },
  {
   "cell_type": "code",
   "execution_count": null,
   "metadata": {},
   "outputs": [],
   "source": [
    "cities = ['Batumi' , 'Kyiv' , 'Lviv', 'Bucharest'] \n",
    "question = input('enter a city')\n",
    "while cities == question:\n",
    "    print('You’ve already been in ', question)\n",
    "    break\n",
    "if cities != question:\n",
    "    print('This will be your first trip in ', question)"
   ]
  }
 ],
 "metadata": {
  "language_info": {
   "name": "python"
  },
  "orig_nbformat": 4
 },
 "nbformat": 4,
 "nbformat_minor": 2
}
