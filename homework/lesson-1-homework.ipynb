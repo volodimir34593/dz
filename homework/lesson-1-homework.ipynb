{
 "cells": [
  {
   "cell_type": "code",
   "execution_count": 1,
   "metadata": {},
   "outputs": [
    {
     "name": "stdout",
     "output_type": "stream",
     "text": [
      "Постачання продуктів\n",
      "Апельсин Банан Мандарин Картопля Цибуля Продаж продуктів за назвою:\n",
      "Дякуємо за покупку\n",
      "Продаж продуктів за номером:\n",
      "Ви купили Мандарин\n",
      "Дякуємо за покупку\n",
      "Апельсин Картопля молода Картопля рожева Банан Цибуля  \n",
      "Картопля\n",
      "Мандарин\n"
     ]
    }
   ],
   "source": [
    "products = ['Апельсин', 'Банан', 'Мандарин']\n",
    "products_sold = list()\n",
    "\n",
    "print('Постачання продуктів')\n",
    "\n",
    "while True:\n",
    "    product = input('Введіть назву продукту або 0 для виходу: ')\n",
    "\n",
    "    if product == '0' :\n",
    "        break\n",
    "    else:\n",
    "        products.append(product)\n",
    "\n",
    "products.extend(['Картопля', 'Цибуля'])\n",
    "\n",
    "for product in products:\n",
    "    print(product, end=' ')\n",
    "\n",
    "\n",
    "print('Продаж продуктів за назвою:')\n",
    "product = input('Введіть назву продукту, який бажаєте купити: ')\n",
    "\n",
    "if product in products:\n",
    "\t# видаляємо - продано, більше немає\n",
    "    products.remove(product)\n",
    "    products_sold.append(product)\n",
    "    print('Дякуємо за покупку')\n",
    "else:\n",
    "    print('Вказаного продукту немає в наявності')\n",
    "\n",
    "\n",
    "print('Продаж продуктів за номером:')\n",
    "product_index = int(input('Введіть номер продукту, який бажаєте купити: '))\n",
    "\n",
    "if 0 <= product_index < len(products):\n",
    "    product = products.pop(product_index)\n",
    "    products_sold.append(product)\n",
    "    print('Ви купили', product)\n",
    "    print('Дякуємо за покупку')\n",
    "else:\n",
    "    print('Неправильно вказаний номер')\n",
    "\n",
    "\n",
    "products.insert(1, 'Картопля молода')\n",
    "products.insert(2, 'Картопля рожева')\n",
    "\n",
    "for product in products:\n",
    "    print(product, end=' ')\n",
    "\n",
    "\n",
    "print(' ')\n",
    "\n",
    "index_potato = products.index('Картопля молода')\n",
    "products[index_potato] = 'Картопля біла'\n",
    "\n",
    "\n",
    "for product in products_sold:\n",
    "    print(product)"
   ]
  },
  {
   "cell_type": "code",
   "execution_count": 2,
   "metadata": {},
   "outputs": [
    {
     "name": "stdout",
     "output_type": "stream",
     "text": [
      "['Australia', 'Eurasia', 'Africa', 'Antarktyda', 'Amerika']\n",
      "['Africa', 'Amerika', 'Antarktyda', 'Australia', 'Eurasia']\n"
     ]
    }
   ],
   "source": [
    "continent_west = ['Australia','Eurasia','Africa','Antarktyda']\n",
    "continent_east = ['Amerika']\n",
    "continent = list ()\n",
    "\n",
    "continent.extend (continent_west)\n",
    "continent.extend (continent_east)\n",
    "print (continent)\n",
    "\n",
    "continent.sort ()\n",
    "print (continent)"
   ]
  }
 ],
 "metadata": {
  "kernelspec": {
   "display_name": "Python 3.10.4 64-bit",
   "language": "python",
   "name": "python3"
  },
  "language_info": {
   "codemirror_mode": {
    "name": "ipython",
    "version": 3
   },
   "file_extension": ".py",
   "mimetype": "text/x-python",
   "name": "python",
   "nbconvert_exporter": "python",
   "pygments_lexer": "ipython3",
   "version": "3.10.4"
  },
  "orig_nbformat": 4,
  "vscode": {
   "interpreter": {
    "hash": "52634da84371cba311ea128a5ea7cdc41ff074b781779e754b270ff9f8153cee"
   }
  }
 },
 "nbformat": 4,
 "nbformat_minor": 2
}
