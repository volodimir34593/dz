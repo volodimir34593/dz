{
 "cells": [
  {
   "cell_type": "code",
   "execution_count": null,
   "metadata": {},
   "outputs": [],
   "source": [
    "string = input()\n",
    "numbers = []\n",
    "\n",
    "n = ''\n",
    "for char in string: \n",
    "    if char.isdigit():\n",
    "         n += char\n",
    "    else:\n",
    "        if n.isidigit():  \n",
    "            numbers.append(int(n))  \n",
    "\n",
    "print(numbers)\n"
   ]
  },
  {
   "cell_type": "code",
   "execution_count": null,
   "metadata": {},
   "outputs": [],
   "source": [
    "last_name = ['M', 'a', 'l', 'e', 's', 'h']\n",
    "last_name.count('o')"
   ]
  },
  {
   "cell_type": "code",
   "execution_count": null,
   "metadata": {},
   "outputs": [],
   "source": [
    "phones = [\n",
    "    '+38(061) 999-99-99', \n",
    "    '+38(066) 999-99-99',\n",
    "    '+38(066) 888-88-88', \n",
    "    '+38(050) 777-77-77'\n",
    "]\n",
    "\n",
    "operator_codes = ['067', '097', '068', '044']\n",
    "abonents_count = 0\n",
    "\n",
    "for number in phones :\n",
    "    operator_code = number[4:4+3]\n",
    "    if operator_code in operator_codes :\n",
    "        abonents_count += 1\n",
    "\n",
    "print('Abonents count for operator :', abonents_count)"
   ]
  }
 ],
 "metadata": {
  "language_info": {
   "name": "python"
  },
  "orig_nbformat": 4
 },
 "nbformat": 4,
 "nbformat_minor": 2
}
